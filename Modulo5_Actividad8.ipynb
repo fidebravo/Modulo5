{
 "cells": [
  {
   "cell_type": "markdown",
   "metadata": {},
   "source": [
    "# Módulo 5 Actvidad 8\n",
    "\n",
    "## Intención del aprendizaje esperado:\n",
    "\n",
    "\n",
    "**8. Elaborar un modelo predictivo aplicando el algoritmo clasificador SVM para resolver un problema de clasificación utilizando lenguaje Python**"
   ]
  },
  {
   "cell_type": "markdown",
   "metadata": {},
   "source": [
    "**Ejercicios Planteados**\n",
    "\n",
    "\n",
    "Con el fin de clasificar las distintas actividades que puede realizar una persona, se realizó un experimento a un grupo de 30 voluntarios dentro de un grupo de edad de 19 a 48 años. Cada persona realizó seis actividades (CAMINAR, CAMINAR POR LAS ESCALERAS, BAJAR LAS ESCALERAS, \n",
    "SENTARSE, DE PIE, RECOSTARSE) con un smartphone (Samsung Galaxy S II) conectado en su cintura. Usando el acelerómetro y giroscopio integrados en el smartphone, se tienen la siguiente data:\n",
    "\n",
    "\n",
    "• Aceleración triaxial del acelerómetro (aceleración total) y la aceleración corporal estimada.\n",
    "\n",
    "\n",
    "• Velocidad angular triaxial del giroscopio.\n",
    "\n",
    "\n",
    "• Variables de dominio de tiempo y frecuencia.\n",
    "\n",
    "\n",
    "• Su etiqueta de actividad.\n",
    "\n",
    "\n",
    "• Un identificador del sujeto que realizó el experimento.\n",
    "\n",
    "\n",
    "El conjunto de datos obtenido se ha dividido aleatoriamente en dos conjuntos (train y test), donde se seleccionó al 70% de los voluntarios para generar los datos de entrenamiento y al 30% los datos de la prueba\n",
    "\n",
    "*Estos datos se encuentran en los siguientes links:*\n",
    "\n"
   ]
  },
  {
   "cell_type": "markdown",
   "metadata": {},
   "source": [
    "https://raw.githubusercontent.com/natjulian/Contribuci-n-Diplomado-Data-Science-UC-2021/main/Bases%20de%20datos%20Clases/Activity/train.csv\n",
    "\n",
    "https://raw.githubusercontent.com/natjulian/Contribuci-n-Diplomado-Data-Science-UC-2021/main/Bases%20de%20datos%20Clases/Activity/test.csv\n",
    "\n"
   ]
  },
  {
   "cell_type": "markdown",
   "metadata": {},
   "source": [
    "a) Cargue los set de datos de entrenamiento y prueba. ¿Cuáles son las dimensiones de estos set de datos?"
   ]
  },
  {
   "cell_type": "code",
   "execution_count": 14,
   "metadata": {},
   "outputs": [
    {
     "name": "stdout",
     "output_type": "stream",
     "text": [
      "====== DIMENSIONES DE DATAFRAMES =======\n",
      "\n",
      "ENTRENAMIENTO ................... PRUEBA\n",
      "\n",
      "7352 Filas .................. 2947 Filas\n",
      "563 Columnas .............. 563 Columnas\n",
      "\n",
      "========================================\n"
     ]
    }
   ],
   "source": [
    "import pandas as pd\n",
    "\n",
    "url_train = 'https://raw.githubusercontent.com/natjulian/Contribuci-n-Diplomado-Data-Science-UC-2021/main/Bases%20de%20datos%20Clases/Activity/train.csv'\n",
    "url_test = 'https://raw.githubusercontent.com/natjulian/Contribuci-n-Diplomado-Data-Science-UC-2021/main/Bases%20de%20datos%20Clases/Activity/test.csv'\n",
    "\n",
    "data_entrenamiento = pd.read_csv(url_train)\n",
    "data_prueba = pd.read_csv(url_test)\n",
    "\n",
    "dimensiones_data_entrenamiento = data_entrenamiento.shape\n",
    "dimensiones_data_prueba = data_prueba.shape\n",
    "\n",
    "print(' DIMENSIONES DE DATAFRAMES '.center(40, '='))\n",
    "print()\n",
    "print('ENTRENAMIENTO '.ljust(20, '.') + ' PRUEBA'.rjust(20, '.'))\n",
    "print()\n",
    "print(f'{dimensiones_data_entrenamiento[0]} Filas '.ljust(20, '.') + f' {dimensiones_data_prueba[0]} Filas'.rjust(20, '.'))\n",
    "print(f'{dimensiones_data_entrenamiento[1]} Columnas '.ljust(20, '.') + f' {dimensiones_data_prueba[1]} Columnas'.rjust(20, '.'))\n",
    "print()\n",
    "print('=' * 40)"
   ]
  },
  {
   "cell_type": "markdown",
   "metadata": {},
   "source": [
    "**b) Estudie la cantidad de registros que hay en cada actividad en el set de entrenamiento. Para esto, una opción es utilizar la función de pandas crosstab *(index=columna, columns=\"count\")*. ¿Cómo se encuentran repartidas las Actividades? ¿Existe algún desbalance en las categorías? (realice un gráfico que acompañe su análisis) Comente.**"
   ]
  },
  {
   "cell_type": "code",
   "execution_count": 15,
   "metadata": {},
   "outputs": [
    {
     "name": "stdout",
     "output_type": "stream",
     "text": [
      "TABLA DE FRECUENCIA ACTIVIDADES ENTRENAMIENTO\n",
      "_____________________________________________\n",
      "col_0               Cantidad\n",
      "Activity                    \n",
      "LAYING                  1407\n",
      "SITTING                 1286\n",
      "STANDING                1374\n",
      "WALKING                 1226\n",
      "WALKING_DOWNSTAIRS       986\n",
      "WALKING_UPSTAIRS        1073\n",
      "_____________________________________________\n",
      "\n"
     ]
    },
    {
     "data": {
      "image/png": "[encoded data removed]",
      "text/plain": [
       "<Figure size 800x400 with 1 Axes>"
      ]
     },
     "metadata": {},
     "output_type": "display_data"
    }
   ],
   "source": [
    "import pandas as pd\n",
    "import seaborn as sns\n",
    "import matplotlib.pyplot as plt\n",
    "\n",
    "\n",
    "tabla_frecuencia = pd.crosstab(index=data_entrenamiento['Activity'], columns=\"Cantidad\")\n",
    "\n",
    "print('TABLA DE FRECUENCIA ACTIVIDADES ENTRENAMIENTO')\n",
    "print('_' * 45)\n",
    "print(tabla_frecuencia)\n",
    "print('_' * 45)\n",
    "print()\n",
    "\n",
    "plt.figure(figsize=(8, 4))\n",
    "sns.countplot(data=data_entrenamiento, x='Activity', order=data_entrenamiento['Activity'].value_counts().index)\n",
    "plt.title('Distribución de Actividades')\n",
    "plt.xlabel('Actividad')\n",
    "plt.ylabel('Cantidad de Registros')\n",
    "plt.xticks(fontsize=6)\n",
    "\n",
    "plt.show()\n",
    "\n"
   ]
  },
  {
   "cell_type": "markdown",
   "metadata": {},
   "source": [
    "Las tabla de frecuencia nos revela que existe un desbalance entre las actividades teniendo la mayor cantidad de registros la actividad *'Laying'* (1407) y la menor cantidad en *'Walking Downstairs'* (986).\n",
    "\n"
   ]
  },
  {
   "cell_type": "markdown",
   "metadata": {},
   "source": [
    "**c) Defina X_train y X_test como corresponda (omitiendo las variables que no corresponden a variables predictoras).**\n",
    "\n",
    "**d) Estandarice el set de features de entrenamiento y prueba. Recuerde que puede utilizar la función vista en clases StandardScaler:**\n",
    "\n",
    "\n",
    "*from sklearn.preprocessing import StandardScaler*\n",
    "\n",
    "\n",
    "*x_stand = StandardScaler().fit_transform(x)*"
   ]
  },
  {
   "cell_type": "code",
   "execution_count": 16,
   "metadata": {},
   "outputs": [],
   "source": [
    "from sklearn.preprocessing import StandardScaler\n",
    "\n",
    "X_train = data_entrenamiento.drop('Activity', axis=1)\n",
    "X_test = data_prueba.drop('Activity', axis=1)\n",
    "\n",
    "X_train_stand = StandardScaler().fit_transform(X_train)\n",
    "X_test_stand = StandardScaler().fit_transform(X_test)\n"
   ]
  },
  {
   "cell_type": "markdown",
   "metadata": {},
   "source": [
    "**e) Defina y_train e y_test como corresponda (recuerde que debe estar codificada numéricamente). Para recodificar un vector o columna y de varias categorías a formato numérico puede utilizar:**\n",
    "\n",
    "\n",
    "*from sklearn import preprocessing*\n",
    "\n",
    "\n",
    "*encoder=preprocessing.LabelEncoder().fit(y)*\n",
    "\n",
    "\n",
    "*y_new=encodertrain.transform(y)*"
   ]
  },
  {
   "cell_type": "code",
   "execution_count": 17,
   "metadata": {},
   "outputs": [],
   "source": [
    "from sklearn import preprocessing\n",
    "\n",
    "y_train = data_entrenamiento['Activity']\n",
    "y_test = data_prueba['Activity']\n",
    "\n",
    "encoder = preprocessing.LabelEncoder().fit(y_train)\n",
    "\n",
    "y_train_encoded = encoder.transform(y_train)\n",
    "y_test_encoded = encoder.transform(y_test)\n",
    "\n"
   ]
  },
  {
   "cell_type": "markdown",
   "metadata": {},
   "source": [
    "**f) Defina un diccionario con las opciones de:**\n",
    "\n",
    "\n",
    "*El kernel se mueva entre linear o rbf*\n",
    "\n",
    "\n",
    "*El C se mueva entre los valores 10 y 15*\n",
    "\n",
    "**g) Utilice la función GridSearchCV para realizar 10 validaciones cruzadas con la lista de parámetros definida anteriormente. Determine la mejor combinación de parámetros y obtenga el modelo con dichos parámetros.**"
   ]
  },
  {
   "cell_type": "code",
   "execution_count": 18,
   "metadata": {},
   "outputs": [
    {
     "name": "stdout",
     "output_type": "stream",
     "text": [
      "================================== RESULTADOS ==================================\n",
      "\n",
      "Mejor combinación de parámetros ..................... {'C': 10, 'kernel': 'rbf'}\n",
      "Modelo con los mejores parámetros ...................................  SVC(C=10)\n",
      "\n",
      "================================================================================\n"
     ]
    }
   ],
   "source": [
    "from sklearn.model_selection import GridSearchCV\n",
    "from sklearn.svm import SVC\n",
    "\n",
    "diccionario_parametros = {'kernel': ['linear', 'rbf'], 'C': [10, 15]}\n",
    "\n",
    "modelo_SVM = SVC()\n",
    "\n",
    "grid_search = GridSearchCV(estimator=modelo_SVM, param_grid=diccionario_parametros, cv=10)\n",
    "grid_search.fit(X_train_stand, y_train_encoded)\n",
    "\n",
    "\n",
    "mejores_parametros = grid_search.best_params_\n",
    "mejor_modelo = grid_search.best_estimator_\n",
    "\n",
    "\n",
    "print(' RESULTADOS '.center(80, '=') + '\\n')\n",
    "print('Mejor combinación de parámetros '.ljust(50, '.') + f' {mejores_parametros}'.rjust(30, '.'))\n",
    "print('Modelo con los mejores parámetros '.ljust(60, '.') + f'  {mejor_modelo}'.rjust(20, '.'))\n",
    "print('\\n' + '=' * 80)\n"
   ]
  },
  {
   "cell_type": "markdown",
   "metadata": {},
   "source": [
    "**h) ¿Cómo es la capacidad predictiva de este modelo en el set de prueba? Comente.**"
   ]
  },
  {
   "cell_type": "code",
   "execution_count": 19,
   "metadata": {},
   "outputs": [
    {
     "name": "stdout",
     "output_type": "stream",
     "text": [
      "              precision    recall  f1-score   support\n",
      "\n",
      "           0       0.99      1.00      0.99       537\n",
      "           1       0.95      0.90      0.93       491\n",
      "           2       0.92      0.96      0.94       532\n",
      "           3       0.98      0.96      0.97       496\n",
      "           4       0.96      0.94      0.95       420\n",
      "           5       0.95      0.99      0.97       471\n",
      "\n",
      "    accuracy                           0.96      2947\n",
      "   macro avg       0.96      0.96      0.96      2947\n",
      "weighted avg       0.96      0.96      0.96      2947\n",
      "\n"
     ]
    }
   ],
   "source": [
    "from sklearn.metrics import classification_report\n",
    "\n",
    "y_pred = mejor_modelo.predict(X_test_stand)\n",
    "\n",
    "print(classification_report(y_test_encoded, y_pred))\n"
   ]
  },
  {
   "cell_type": "markdown",
   "metadata": {},
   "source": [
    "La capacidad predictiva del modelo en el set de prueba es bastante afinada, con valores de métricas muy cercanas a predicciones perfectas.  Respecto al f1_score el valor más bajo es de 93%, lo que resulta sorprendente en consideración que son 6 categorías siendo todas las demás mucho más elevadas que este valor.  En cuanto al *accuracy* del modelo, el porcentaje de exactitud se eleva hasta el 96%."
   ]
  },
  {
   "cell_type": "markdown",
   "metadata": {},
   "source": []
  }
 ],
 "metadata": {
  "kernelspec": {
   "display_name": "base",
   "language": "python",
   "name": "python3"
  },
  "language_info": {
   "codemirror_mode": {
    "name": "ipython",
    "version": 3
   },
   "file_extension": ".py",
   "mimetype": "text/x-python",
   "name": "python",
   "nbconvert_exporter": "python",
   "pygments_lexer": "ipython3",
   "version": "3.11.7"
  }
 },
 "nbformat": 4,
 "nbformat_minor": 2
}
