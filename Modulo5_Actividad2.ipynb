{
 "cells": [
  {
   "cell_type": "markdown",
   "metadata": {},
   "source": [
    "# Módulo 5 Actividad 2\n",
    "\n",
    "**Intención del aprendizaje esperado:**\n",
    "\n",
    "\n",
    "2. Elaborar un modelo predictivo de regresión lineal simple utilizando técnicas de validación cruzada y el lenguaje Python para resolver un problema.\n",
    "\n",
    "## Ejercicios Planteados\n",
    "\n",
    "\n",
    "**Ejercicio:** *Suponga que le han pedido averiguar si existe una relación entre el número de veces que batean los jugadores de un equipo de béisbol y el número de runs que consigue. En caso de existir y de establecer un modelo, podría predecir el resultado del partido para los siguientes datos:*"
   ]
  },
  {
   "cell_type": "code",
   "execution_count": null,
   "metadata": {},
   "outputs": [],
   "source": [
    "import pandas as pd\n",
    "\n",
    "equipos = [\"Texas\",\"Boston\",\"Detroit\",\"Kansas\",\"St.\",\"New_S.\",\"New_Y.\", \"Milwaukee\",\"Colorado\",\"Houston\",\"Baltimore\",\"Los_An.\",\"Chicago\", \"Cincinnati\",\"Los_P.\",\"Philadelphia\",\"Chicago\",\"Cleveland\",\"Arizona\", \"Toronto\",\"Minnesota\",\"Florida\",\"Pittsburgh\",\n",
    "           \"Oakland\",\"Tampa\", \"Atlanta\",\"Washington\",\"San.F\",\"San.I\",\"Seattle\"]\n",
    "\n",
    "bateos = [5659, 5710, 5563, 5672, 5532, 5600, 5518, 5447, 5544, 5598, 5585, 5436, 5549, 5612, 5513, 5579, 5502, 5509, 5421, 5559, 5487, 5508, 5421, 5452, 5436, 5528, 5441, 5486, 5417, 5421]\n",
    "\n",
    "runs = [855, 875, 787, 730, 762, 718, 867, 721, 735, 615, 708, 644, 654, 735, 667, 713, 654, 704, 731, 743, 619, 625, 610, 645, 707, 641, 624, 570, 593, 556]\n",
    "\n",
    "\n",
    "datos = pd.DataFrame({'equipos': equipos, 'bateos': bateos, 'runs': runs})\n",
    "\n",
    "datos.head(3)"
   ]
  },
  {
   "cell_type": "markdown",
   "metadata": {},
   "source": [
    "## Para esto obtenga lo siguiente:\n",
    "\n",
    "1. Obtenga la distribución de los datos\n",
    "2. Calcule la correlación de Pearson. Interprete su valor"
   ]
  },
  {
   "cell_type": "code",
   "execution_count": null,
   "metadata": {},
   "outputs": [],
   "source": [
    "import matplotlib.pyplot as plt\n",
    "import seaborn as sns\n",
    "import warnings\n",
    "warnings.filterwarnings(\"ignore\")\n",
    "\n",
    "\n",
    "fig, axes = plt.subplots(1, 2, figsize= (10, 5), sharey=True)\n",
    "sns.histplot(ax=axes[0], data=datos, x=bateos, bins=30, color='green', kde=True)\n",
    "axes[0].set_title('Distribución de Bateos', fontsize=15)\n",
    "axes[0].set_xlabel('Bateo', color='darkblue', fontsize=15)\n",
    "axes[0].set_ylabel('Frecuencia', color='darkblue', fontsize=15)\n",
    "axes[0].set_yticks([1,2,3,4])\n",
    "\n",
    "\n",
    "sns.histplot(ax=axes[1], data=datos, x=runs, bins=30, color='grey', kde=True)\n",
    "axes[1].set_title('Distribución de Runs', fontsize=15)\n",
    "axes[1].set_xlabel('Runs', color='darkblue', fontsize=15)\n",
    "\n",
    "print(' GRAFICOS DE DISTRIBUCIÓN BATEOS Y RUNS '.center(111,'='))\n",
    "plt.show()\n",
    "print()\n",
    "\n",
    "\n",
    "correlacion_pearson =  datos['bateos'].corr(datos['runs']) #0.6106\n",
    "\n",
    "print(' ÍNDICE DE CORRELACIÓN DE PEARSON (r) '.center(111, '='))\n",
    "print()\n",
    "print('El índice correlación de Pearson nos indica el grado de paralelismo entre variables.')\n",
    "print('Si bien este indicador por si solo no explica ni asegura la causalidad de los resultados, es un indicador que nos permite tener una visión general de la interrelación entre distintos eventos.')\n",
    "print('El índice de correlación entrega resultados entre \"-1 y 1\", en donde el -1 significa una correlación perfecta pero en sentido inversamente proporcional y el 1 una correlación perfecta en sentido directamente proporcional.')\n",
    "print('El resultado 0, en cambio, indica que no existe ninguna relación entre los eventos estudiados.')\n",
    "print()\n",
    "print(f'Para las variables en estudio, el índice de correlación de Pearson es de {correlacion_pearson:.4f}.  Este resultado nos indica que existe una correlación de caracter positivo entre la cantidad de bateos y el número de runs.')\n",
    "print('En base al valor obtenido, podemos decir también que, probablemente, a mayor número de bateos es mayor el número de runs sin embargo debemos realizar un estudio más a fondo para poder asegurarlo ya que el valor de (r) indica una correlación de intensidad media.')\n"
   ]
  },
  {
   "cell_type": "markdown",
   "metadata": {},
   "source": [
    "3. Separe sus datos de entrenamiento en 80/20.\n",
    "4. Ajuste un modelo de regresión lineal.\n"
   ]
  },
  {
   "cell_type": "code",
   "execution_count": null,
   "metadata": {},
   "outputs": [],
   "source": [
    "from sklearn.model_selection import  train_test_split\n",
    "from sklearn.linear_model import LinearRegression\n",
    "\n",
    "X = datos[['bateos']]\n",
    "y = datos['runs']\n",
    "\n",
    "X_train, X_test, y_train, y_test =  train_test_split(X, y, test_size=0.2, random_state=42)\n",
    "\n",
    "modelo_regresion_lineal = LinearRegression()\n",
    "modelo_regresion_lineal.fit(X_train, y_train)\n"
   ]
  },
  {
   "cell_type": "markdown",
   "metadata": {},
   "source": [
    "5. Escriba la recta de regresión que obtuvo con sus estimaciones respectivas."
   ]
  },
  {
   "cell_type": "code",
   "execution_count": null,
   "metadata": {},
   "outputs": [],
   "source": [
    "coeficientes_modelo = modelo_regresion_lineal.coef_\n",
    "intercepto_modelo = modelo_regresion_lineal.intercept_\n",
    "\n",
    "print(' RECTA DE REGRESIÓN LINEAL '.center(40, '='))\n",
    "print()\n",
    "print(f'y = {coeficientes_modelo[0]:.4f} * X + {intercepto_modelo:.4f}'.center(40))"
   ]
  },
  {
   "cell_type": "markdown",
   "metadata": {},
   "source": [
    "6. Obtenga el error del modelo"
   ]
  },
  {
   "cell_type": "code",
   "execution_count": null,
   "metadata": {},
   "outputs": [],
   "source": [
    "from sklearn.metrics import mean_squared_error, mean_absolute_error\n",
    "\n",
    "y_pred = modelo_regresion_lineal.predict(X_test)\n",
    "y_prediccion_entrenamiento = modelo_regresion_lineal.predict(X_train)\n",
    "mse_entrenamiento = mean_squared_error(y_train, y_prediccion_entrenamiento)\n",
    "mse_test = mean_squared_error(y_test, y_pred)\n",
    "\n",
    "mae_entrenamiento = mean_absolute_error(y_train, y_prediccion_entrenamiento)\n",
    "mae_test = mean_absolute_error(y_test, y_pred)\n",
    "\n",
    "\n",
    "print(f' INDICADORES DE ERROR DEL MODELO '.center(40, '='))\n",
    "print()\n",
    "print(f'ERROR CUADRÁTICO MEDIO (MSE) '.ljust(40, '='))\n",
    "print()\n",
    "print('Entrenamiento:'.ljust(30,'.') + f'{mse_entrenamiento:.4f}'.rjust(10))\n",
    "print('Prueba:'.ljust(30,'.') + f'{mse_test:.4f}'.rjust(10))\n",
    "print()\n",
    "print(f'ERROR CUADRÁTICO ABSOLUTO (MAE) '.ljust(40, '='))\n",
    "print()\n",
    "print('Entrenamiento:'.ljust(30,'.') + f'{mae_entrenamiento:.4f}'.rjust(10))\n",
    "print('Prueba:'.ljust(30,'.') + f'{mae_test:.4f}'.rjust(10))\n"
   ]
  },
  {
   "cell_type": "markdown",
   "metadata": {},
   "source": [
    "7. Obtenga la gráfica de los datos y su recta de regresión"
   ]
  },
  {
   "cell_type": "code",
   "execution_count": null,
   "metadata": {},
   "outputs": [],
   "source": [
    "plt.figure(figsize=(5,5))\n",
    "\n",
    "plt.scatter(X, y, color='red', s=10)\n",
    "plt.plot(X, modelo_regresion_lineal.predict(X), color='pink', linestyle='--', linewidth=1, label=u'Recta de Regresión Lineal')\n",
    "plt.title('Gráfico de Dispersión Bateo vs Runs', fontsize=15, color='red')\n",
    "plt.xlabel('Bateos', fontsize=20, color='black')\n",
    "plt.ylabel('Runs', fontsize=20, color='black')\n",
    "\n",
    "plt.grid(True)\n",
    "plt.legend()\n",
    "plt.show()"
   ]
  },
  {
   "cell_type": "markdown",
   "metadata": {},
   "source": [
    "8. Obtenga las métricas: MAE, MSE, RMSE."
   ]
  },
  {
   "cell_type": "code",
   "execution_count": null,
   "metadata": {},
   "outputs": [],
   "source": [
    "import numpy as np\n",
    "\n",
    "rmse_test = np.sqrt(mse_test)\n",
    "\n",
    "print(f' INDICADORES DE ERROR DEL MODELO '.center(40, '='))\n",
    "print()\n",
    "print('MSE:'.ljust(30,'.') + f'{mse_test:.4f}'.rjust(10))\n",
    "print()\n",
    "print('MAE:'.ljust(30,'.') + f'{mae_test:.4f}'.rjust(10))\n",
    "print()\n",
    "print('RMSE:'.ljust(30,'.') + f'{rmse_test:.4f}'.rjust(10))\n"
   ]
  },
  {
   "cell_type": "markdown",
   "metadata": {},
   "source": [
    "***Concluya a los datos obteniendo y comente la problemática que le han planteado al principio.***"
   ]
  },
  {
   "cell_type": "markdown",
   "metadata": {},
   "source": [
    "Los datos con los cuales se realizó el análisis son pobres y no permiten una buena interpretación de la situación.  Al igual que en ejercicios anteriores, el hecho que la infmoración ya esté agregada en una tabla de frecuencia no nos permite ver el panorama completo de la relación entre las variables lo que implica un coeficiente de correlación de una intensidad media (0.6106 app) y para el caso del modelo, pocos datos para realizar el proceso de entrenamiento y test generando sobreajustes e indicadores de error no muy fiables.  Desde el punto de vista estadístico, la distribución de los datos debiera ser normal sin embargo esta situación no se ve reflejada debido a la manera en que fueron presentados los datos.\n",
    "\n",
    "Respecto a la problemática planteada, se puede concluir que no es posible predecir los resultados de los partidos ya que la información recibida está considerada por temporada resultando un modelo más útil para predecir los resultados de la temporada completa con rangos de error aceptables si consideramos que una temporada implica el total de un año entero.  Esto podría ser corregido si pedimos al solicitante la información detallada por partido y sometiendo esos datos al mismo proceso lo que, seguramente, resultará en un modelo más eficiente con predicciones más precisas."
   ]
  }
 ],
 "metadata": {
  "kernelspec": {
   "display_name": "base",
   "language": "python",
   "name": "python3"
  },
  "language_info": {
   "codemirror_mode": {
    "name": "ipython",
    "version": 3
   },
   "file_extension": ".py",
   "mimetype": "text/x-python",
   "name": "python",
   "nbconvert_exporter": "python",
   "pygments_lexer": "ipython3",
   "version": "3.11.7"
  }
 },
 "nbformat": 4,
 "nbformat_minor": 2
}
