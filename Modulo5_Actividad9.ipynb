{
 "cells": [
  {
   "cell_type": "markdown",
   "metadata": {},
   "source": [
    "# Módulo 5 Actividad 9\n",
    "\n",
    "## Intención del aprendizaje esperado:\n",
    "\n",
    "\n",
    "***9. Elabora un modelo predictivo aplicando técnicas de Gradient Boosting para resolver un problema de clasificación utilizando lenguaje Python.***\n",
    "\n",
    "**Ejercicios Planteados**\n",
    "\n",
    "\n",
    "*Es sabido que, una entidad que presta servicios o productos (pudiera ser una empresa, un banco, una tienda, etcétera) puede mejorar la experiencia de cliente desarrollando productos personalizados en pos de las preferencias y necesidades de cada uno de sus clientes.*\n",
    "\n",
    "*El set de datos potencial contiene datos sobre clientes de una institución financiera:*\n",
    "\n",
    "\n",
    "- Customer ID: ID asociado al cliente\n",
    "\n",
    "- Age: Edad en años del cliente\n",
    "\n",
    "\n",
    "- Income: Ingreso anual del cliente\n",
    "\n",
    "\n",
    "- Family: Tamaño del grupo familiar del cliente\n",
    "\n",
    "\n",
    "- CCAvg: Cupo promedio mensual utilizado en tarjetas de crédito\n",
    "\n",
    "\n",
    "- Education: Nivel educacional (1 si no es graduado, 2 graduado y 3 si posee estudios especializadoss (magister, doctorado, etcétera)\n",
    "\n",
    "\n",
    "- Mortgage: Monto de la hipoteca (0 indica que no posee)\n",
    "\n",
    "\n",
    "- ZIP Code: Código postal del domicilio\n",
    "\n",
    "*En la última campaña a cada cliente se le ofreció un producto personalizado en base a su comportamiento financiero, preferencias, capacidad de pago y necesidades. La variable target corresponde a **Personal Loan** el cual indica si el cliente tomó o no tomó este producto (¿El cliente aceptó o no el producto ofrecido?), donde 0 indica que el cliente no adquirió el producto y 1 indica que sí lo adquirió.*\n",
    "\n",
    "*Es de interés analizar cuáles pudieran ser los perfiles de clientes que tienen mayor probabilidad de aceptar el producto ofrecido, de manera de, identificar a los clientes con dichas características y priorizarlos a ellos en las próximas campañas.*\n",
    "\n",
    "\n",
    "***a) Cargue el set de datos utilizando la función read.excel de pandas. ¿Qué columnas le hacen sentido incluir en un modelo para predecir si un cliente tomará o no el producto ofrecido? Si desea eliminar alguna columna, recuerde que puede usar la función drop('nombre columna a eliminar', axis=1).***"
   ]
  },
  {
   "cell_type": "code",
   "execution_count": null,
   "metadata": {},
   "outputs": [],
   "source": [
    "import pandas as pd\n",
    "\n",
    "credito = pd.read_csv('Model_creditoPersonal.csv')\n",
    "df_credito = pd.DataFrame(credito)\n",
    "\n",
    "df_credito.head()\n",
    "\n"
   ]
  },
  {
   "cell_type": "code",
   "execution_count": null,
   "metadata": {},
   "outputs": [],
   "source": [
    "df_credito.info()"
   ]
  },
  {
   "cell_type": "code",
   "execution_count": null,
   "metadata": {},
   "outputs": [],
   "source": [
    "correlacion = df_credito['Personal Loan'].corr(df_credito['ZIP Code'], method='pearson')\n",
    "print(f'El índice de correlación de Pearson entre la variable target y la variable ZIP Code es {correlacion:.4f}')"
   ]
  },
  {
   "cell_type": "code",
   "execution_count": null,
   "metadata": {},
   "outputs": [],
   "source": [
    "df_credito = df_credito.drop(columns=['ID', 'ZIP Code'], axis=1)"
   ]
  },
  {
   "cell_type": "markdown",
   "metadata": {},
   "source": [
    "Se elimina la columna 'ID' ya que no aporta valor estadístico.  Se elimina la columna 'ZIP Code' ya que los valores de sus registros no tiene sentido estandarizarlos en pasos posteriores, si fuese necesario, y el índice de correlación de Pearson (0.0001) demuestra que no existe prácticamente ninguna correlación entre las variables."
   ]
  },
  {
   "cell_type": "markdown",
   "metadata": {},
   "source": [
    "*b) Determine cuáles son las variables predictoras que son categorías y obtenga las variables dummies correspondientes para incluirlas en el modelo. Recuerde que puede usar la función get_dummies() de pandas.*"
   ]
  },
  {
   "cell_type": "code",
   "execution_count": null,
   "metadata": {},
   "outputs": [],
   "source": [
    "df_credito.apply(pd.unique)"
   ]
  },
  {
   "cell_type": "markdown",
   "metadata": {},
   "source": [
    "Si bien el dataset cuenta solo con datos numéricos, las variables categóricas, en este caso, están definidas por las columnas que contienen valores binarios (0 o 1), que tienen significancia booleana.  Estas variables son: 'Personal Loan', 'Securities Account', 'CD Account', 'Online' y 'CreditCard'.  El hecho de que el contenido de las columnas sea binario no hace necesario el uso de 'get.dummies' ya que no aporta valor adicional al proceso de modelado."
   ]
  },
  {
   "cell_type": "markdown",
   "metadata": {},
   "source": [
    "*c) Defina en un objeto X las variables predictoras y en Y la variable respuesta **Personal Loan**. Obtenga los set de entrenamiento y prueba en una proporción 5:1. Recuerde que la función train_test_split() es útil para realizar split simple, además fije una semilla 2021 (random_state=2021 en la función train_test_split()).*"
   ]
  },
  {
   "cell_type": "code",
   "execution_count": null,
   "metadata": {},
   "outputs": [],
   "source": [
    "from sklearn.model_selection import train_test_split\n",
    "\n",
    "X = df_credito.drop('Personal Loan', axis=1)\n",
    "y = df_credito['Personal Loan']\n",
    "\n",
    "proporcion = 1/6\n",
    "\n",
    "X_train, X_test, y_train, y_test = train_test_split(X, y, test_size=proporcion, random_state=2021)\n"
   ]
  },
  {
   "cell_type": "markdown",
   "metadata": {},
   "source": [
    "*d) Obtenga un árbol de decisión con el set de datos de entrenamiento.*\n",
    "\n",
    "*Obtenga el MSE del modelo en el set de prueba.*\n",
    "\n",
    "*Muestre el árbol obtenido, ¿qué observa? ¿cuáles podrían ser los problemas de este árbol? ¿qué alternativas pudieran probarse para abordar este problema?*"
   ]
  },
  {
   "cell_type": "code",
   "execution_count": null,
   "metadata": {},
   "outputs": [],
   "source": [
    "from sklearn.tree import DecisionTreeClassifier\n",
    "#from sklearn.ensemble import RandomForestClassifier\n",
    "\n",
    "modelo_clasificacion_arbol_de_decision = DecisionTreeClassifier(random_state=2021)\n",
    "modelo_clasificacion_arbol_de_decision.fit(X_train, y_train)\n"
   ]
  },
  {
   "cell_type": "code",
   "execution_count": null,
   "metadata": {},
   "outputs": [],
   "source": [
    "from sklearn.metrics import mean_squared_error\n",
    "import numpy as np\n",
    "\n",
    "y_pred = modelo_clasificacion_arbol_de_decision.predict(X_test)\n",
    "mse_modelo_clasificacion_arbol_de_decision = mean_squared_error(y_test, y_pred)\n",
    "\n",
    "print(' Predicciones '.center(40, '=') + '\\n')\n",
    "print(np.array(y_pred[:10]))\n",
    "\n",
    "print('\\n' + ' Valores Reales '.center(40, '=') + '\\n')\n",
    "print(np.array(y_test[:10]))\n",
    "print('\\n' + '=' * 40)\n",
    "\n",
    "print('\\n' + 'MSE MODELO CLASIFICACIÓN '.ljust(30,'.') + f' {mse_modelo_clasificacion_arbol_de_decision:.4f}'.rjust(10, '.'))\n"
   ]
  },
  {
   "cell_type": "code",
   "execution_count": null,
   "metadata": {},
   "outputs": [],
   "source": [
    "from sklearn.tree import plot_tree\n",
    "import matplotlib.pyplot as plt\n",
    "\n",
    "plt.figure(figsize=(20, 10))\n",
    "plot_tree(modelo_clasificacion_arbol_de_decision, filled=True, feature_names=df_credito.columns[:-1], class_names=['0', '1'], rounded=True, fontsize=10)\n",
    "plt.show()\n"
   ]
  },
  {
   "cell_type": "markdown",
   "metadata": {},
   "source": [
    "El modelo de clasificación, basado en la métrica de error MSE, resulta bastante afinado, sin embargo al graficar el resultado se muestra bastante complejo de entender.  Desde mi punto de vista, las solución a la gráfica puede resolverse indicando una menor profundidad del árbol como también un nuevo análisis de las variables que fueron consideradas con el objetivo de eliminar algunas de ellas que pudiesen tener menor influencia en el problema planteado."
   ]
  },
  {
   "cell_type": "markdown",
   "metadata": {},
   "source": [
    "*e) Plantee otro árbol de decisión pero definiendo como parámetro de control o prepoda la profundidad máxima del árbol, para esto en la función DecisionTreeClassifier() añada como argumento max_depth=2 (profundidad máxima 2). Obtenga el MSE en el set de prueba y compare con el modelo anterior. Observe el árbol obtenido. Comente.*"
   ]
  },
  {
   "cell_type": "code",
   "execution_count": null,
   "metadata": {},
   "outputs": [],
   "source": [
    "\n",
    "modelo_clasificacion_arbol_de_decision_2 = DecisionTreeClassifier(max_depth=2, random_state=2021)\n",
    "modelo_clasificacion_arbol_de_decision_2.fit(X_train, y_train)\n"
   ]
  },
  {
   "cell_type": "code",
   "execution_count": null,
   "metadata": {},
   "outputs": [],
   "source": [
    "y_pred_2 = modelo_clasificacion_arbol_de_decision_2.predict(X_test)\n",
    "mse_modelo_clasificacion_arbol_de_decision_2 = mean_squared_error(y_test, y_pred_2)\n",
    "\n",
    "print(' Predicciones '.center(40, '=') + '\\n')\n",
    "print(np.array(y_pred_2[:10]))\n",
    "\n",
    "print('\\n' + ' Valores Reales '.center(40, '=') + '\\n')\n",
    "print(np.array(y_test[:10]))\n",
    "print('\\n' + '=' * 40)\n",
    "\n",
    "print('\\n' + 'MSE MODELO CLASIFICACIÓN '.ljust(30,'.') + f' {mse_modelo_clasificacion_arbol_de_decision_2:.4f}'.rjust(10, '.'))\n",
    "\n",
    "plt.figure(figsize=(20, 10))\n",
    "plot_tree(modelo_clasificacion_arbol_de_decision_2, filled=True, feature_names=df_credito.columns[:-1], class_names=['0', '1'], rounded=True, fontsize=10)\n",
    "plt.show()\n"
   ]
  },
  {
   "cell_type": "markdown",
   "metadata": {},
   "source": [
    "Aplicando una profundidad máxima de 2, el valor del MSE del estimador es prácticamente el mismo que el del estimador sin indicar profundidad máxima.  Respecto al gráfico, este resulta mucho más claro en su interpretación."
   ]
  },
  {
   "cell_type": "markdown",
   "metadata": {},
   "source": [
    "*f) Busque los mejores valores de los criterios de corte y máxima profundidad para este caso, con 10 validaciones cruzadas, y entregue sus valores (Hint: evalue los hiperparámetros criterion y max_depth)*"
   ]
  },
  {
   "cell_type": "code",
   "execution_count": null,
   "metadata": {},
   "outputs": [],
   "source": [
    "from sklearn.model_selection import GridSearchCV\n",
    "\n",
    "modelo_arbol_validaciones = DecisionTreeClassifier(random_state=2021)\n",
    "\n",
    "parametros = {'criterion': ['gini', 'entropy'], 'max_depth': [1, 3, 5, 7, 9]}\n",
    "\n",
    "grid_search = GridSearchCV(estimator=modelo_arbol_validaciones, param_grid=parametros, cv=10, scoring='neg_mean_squared_error', return_train_score=True)\n",
    "grid_search.fit(X_train, y_train)\n",
    "\n",
    "resultados = pd.DataFrame(grid_search.cv_results_)\n",
    "mejores_parametros = grid_search.best_params_\n",
    "\n",
    "print(' MEJORES HIPERPARÁMETROS '.center(40, '=') + '\\n')\n",
    "print('CRITERIO '.ljust(25, '.') + f' {mejores_parametros[\"criterion\"]}'.rjust(15, '.') + '\\n\\n' + 'PROFUNDIDAD '.ljust(25, '.') + f' {mejores_parametros[\"max_depth\"]}'.rjust(15, '.'))\n",
    "print('\\n' + '=' * 40)\n",
    "\n",
    "\n",
    "print('\\n' + ' MSE por Combinación de Hiperparámetros  '.center(68, '=') + '\\n')\n",
    "print(resultados[['param_criterion', 'param_max_depth', 'mean_test_score', 'mean_train_score']])\n",
    "print('\\n' +  '=' * 68)\n"
   ]
  },
  {
   "cell_type": "code",
   "execution_count": null,
   "metadata": {},
   "outputs": [],
   "source": []
  }
 ],
 "metadata": {
  "kernelspec": {
   "display_name": "base",
   "language": "python",
   "name": "python3"
  },
  "language_info": {
   "codemirror_mode": {
    "name": "ipython",
    "version": 3
   },
   "file_extension": ".py",
   "mimetype": "text/x-python",
   "name": "python",
   "nbconvert_exporter": "python",
   "pygments_lexer": "ipython3",
   "version": "3.11.7"
  }
 },
 "nbformat": 4,
 "nbformat_minor": 2
}
