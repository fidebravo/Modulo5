{
 "cells": [
  {
   "cell_type": "markdown",
   "metadata": {},
   "source": [
    "# Módulo 5 Actividad 1"
   ]
  },
  {
   "cell_type": "markdown",
   "metadata": {},
   "source": [
    "## Intención del aprendizaje esperado:\n",
    "\n",
    "\n",
    "1. Describir los conceptos fundamentales de aprendizaje de máquina para resolver un problema\n",
    "\n",
    "\n",
    "## Ejercicios Planteados"
   ]
  },
  {
   "cell_type": "markdown",
   "metadata": {},
   "source": [
    "**Aprendizaje Supervisado**\n",
    "\n",
    "- Dentro del aprendizaje de máquina, y por lo mismo de la IA, corresponde a un proceso de entrenamiento y prueba de modelos que usan algoritmos y conjuntos de datos etiquetados para predecir resultados de nuevas entradas o clasificarlos.\n",
    "\n",
    "\n",
    "**Aprendizaje sin Supervisión:**\n",
    "\n",
    "- A diferencia del aprendizaje supervisado, este tipo de modelos usa algoritmos para analizar y descubrir patrones ocultos en conjunto de datos que permitirán clasificar u obtener respuestas posteriores sin intervención humana.  Los algoritmos aprenden a partir de variables explicativas sin variable respuesta asociada, lo que lo hace óptimo para el análisis exploratorio de datos.\n",
    "\n"
   ]
  },
  {
   "cell_type": "markdown",
   "metadata": {},
   "source": []
  }
 ],
 "metadata": {
  "language_info": {
   "name": "python"
  }
 },
 "nbformat": 4,
 "nbformat_minor": 2
}
