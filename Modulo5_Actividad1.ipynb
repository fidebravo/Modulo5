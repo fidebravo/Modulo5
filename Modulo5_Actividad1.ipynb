{
 "cells": [
  {
   "cell_type": "markdown",
   "metadata": {},
   "source": [
    "# Módulo 5 Actividad 1"
   ]
  },
  {
   "cell_type": "markdown",
   "metadata": {},
   "source": [
    "## Intención del aprendizaje esperado:\n",
    "\n",
    "\n",
    "1. Describir los conceptos fundamentales de aprendizaje de máquina para resolver un problema\n",
    "\n",
    "\n",
    "## Ejercicios Planteados"
   ]
  },
  {
   "cell_type": "markdown",
   "metadata": {},
   "source": [
    "**Aprendizaje Supervisado**\n",
    "\n",
    "*- Dentro del aprendizaje de máquina, y por lo mismo de la IA, corresponde a un proceso de entrenamiento y prueba de modelos que usan algoritmos y conjuntos de datos etiquetados para predecir resultados de nuevas entradas o clasificarlos.*\n",
    "\n",
    "\n",
    "**Aprendizaje sin Supervisión:**\n",
    "\n",
    "*- A diferencia del aprendizaje supervisado, este tipo de modelos usa algoritmos para analizar y descubrir patrones ocultos en conjunto de datos que permitirán clasificar u obtener respuestas posteriores sin intervención humana.  Los algoritmos aprenden a partir de variables explicativas sin variable respuesta asociada, lo que lo hace óptimo para el análisis exploratorio de datos.*\n",
    "\n",
    "\n",
    "**Aprendizaje por Refuerzo:**\n",
    "\n",
    "*- El aprendizaje por refuerzo es un tipo de aprendizaje automático donde un agente aprende a tomar decisiones mediante la interacción con un entorno. El agente realiza acciones y recibe recompensas o castigos del entorno según las decisiones que toma. El objetivo del agente es aprender a tomar acciones que maximicen la recompensa total que recibe a lo largo del tiempo.  Es un método que se asemeja al aprendizaje conductivista en los seres vivos.-*\n",
    "\n",
    "\n",
    "**Algoritmos de Regresión:**\n",
    "\n",
    "*- Definiré, en primera instancia, \"Algoritmo\" como un conjunto de instrucciones o reglas definidas y no ambiguas, ordenadas y finitas que permiten solucionar un problema, realizar un cálculo, procesar datos y llevar a cabo otras actividades.  Para nuestro tema de estudio, los algoritmos de regresión se pueden considerar como un subcampo del Aprendizaje Automático Supervisado, que tiene la finalidad de establecer un método para relacionar características entre distintas variables con el fin de predecir resultados de manera fiable.  Algunso de los algoritmos usados son: Regresión Lineal, Regresión Logística por ejemplo.-*\n",
    "\n",
    "\n",
    "**Algoritmos de Agrupación:**\n",
    "\n",
    "*- Es un tipo de algoritmo de aprendizaje no supervisado que busca encontrar características similares o comunes de un conjunto de datos, siendo su principal objetivo agrupar datos que sean internamente homogéneos y que difieran de los otros grupos de datos del conjunto.-*\n",
    "\n",
    "\n",
    "**Algoritmos de Aprendizaje Profundo:**\n",
    "\n",
    "*- Los algoritmos de aprendizaje profundo son un subconjunto del aprendizaje automático que utilizan redes neuronales artificiales con muchas capas (profundidad) para aprender y hacer predicciones a partir de grandes cantidades de datos.-*\n",
    "\n"
   ]
  },
  {
   "cell_type": "markdown",
   "metadata": {},
   "source": [
    "**Pregunta 2:**\n",
    "\n",
    "*Busque una imagen que una los conceptos anteriores o cree usted un diagrama que los relacione (Puede agregar otros conceptos si lo cree necesario).*"
   ]
  },
  {
   "cell_type": "markdown",
   "metadata": {},
   "source": [
    "<img src='machine.jpg'>"
   ]
  }
 ],
 "metadata": {
  "language_info": {
   "name": "python"
  }
 },
 "nbformat": 4,
 "nbformat_minor": 2
}
