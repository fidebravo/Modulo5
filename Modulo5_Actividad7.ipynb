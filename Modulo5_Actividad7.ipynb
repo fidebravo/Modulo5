{
 "cells": [
  {
   "cell_type": "markdown",
   "metadata": {},
   "source": [
    "# Módulo 5 Actividad 7\n",
    "\n",
    "## Intención del aprendizaje esperado:\n",
    "\n",
    "\n",
    "### 7. Elabora un modelo predictivo aplicando el algoritmo clasificador Bayesiano para resolver un problema de clasificación utilizando lenguaje Python.\n",
    "\n",
    "## Ejercicios Planteados\n",
    "\n",
    "**Cargue el dataset adult.csv y desarrolle un modelo predictivo Naive Bayes considerando los siguientes puntos:**"
   ]
  },
  {
   "cell_type": "markdown",
   "metadata": {},
   "source": [
    "**1. Importar datos**\n",
    "\n",
    "\n",
    "**2. Análisis Exploratorio**\n"
   ]
  },
  {
   "cell_type": "code",
   "execution_count": null,
   "metadata": {},
   "outputs": [],
   "source": [
    "import pandas as pd\n",
    "\n",
    "adultos = pd.read_csv('adult.csv')\n",
    "adultos.head()"
   ]
  },
  {
   "cell_type": "code",
   "execution_count": null,
   "metadata": {},
   "outputs": [],
   "source": [
    "pd.options.display.float_format = '{:.0f}'.format\n",
    "\n",
    "adultos.describe()"
   ]
  },
  {
   "cell_type": "code",
   "execution_count": null,
   "metadata": {},
   "outputs": [],
   "source": [
    "\n",
    "print(' INFORMACION DE DF '.center(50, '='))\n",
    "print()\n",
    "print(adultos.info())\n",
    "print()\n",
    "print(' COLUMNAS CON REGISTRO \"?\" '.center(50, '='))\n",
    "print()\n",
    "interrogacion = adultos.apply(lambda col: col.astype(str).str.contains('\\?', regex=True).any())\n",
    "print(interrogacion)\n",
    "print()\n",
    "print('=' * 50)\n"
   ]
  },
  {
   "cell_type": "code",
   "execution_count": null,
   "metadata": {},
   "outputs": [],
   "source": [
    "interrogacion_workclass = adultos['workclass'].str.count('\\?').sum()\n",
    "interrogacion_occupation = adultos['occupation'].str.count('\\?').sum()\n",
    "interrogacion_native_country = adultos['native-country'].str.count('\\?').sum()\n",
    "\n",
    "print(' Cantidad de Registros \"?\" por Columnas '.center(70, '='))\n",
    "print()\n",
    "print(f'La cantidad de registros \"?\" en la columna \"workclass\" es: {interrogacion_workclass}')\n",
    "print(f'La cantidad de registros \"?\" en la columna \"occupation\" es: {interrogacion_occupation}')\n",
    "print(f'La cantidad de registros \"?\" en la columna \"native-country\" es: {interrogacion_native_country}')\n",
    "print()\n",
    "print('=' * 70)"
   ]
  },
  {
   "cell_type": "markdown",
   "metadata": {},
   "source": [
    "Reemplazaré los registros '?' por el valor de la moda de la columna."
   ]
  },
  {
   "cell_type": "code",
   "execution_count": null,
   "metadata": {},
   "outputs": [],
   "source": [
    "\n",
    "adultos['workclass'].replace('?', adultos['workclass'].mode()[0], inplace=True)\n",
    "adultos['occupation'].replace('?', adultos['occupation'].mode()[0], inplace=True)\n",
    "adultos['native-country'].replace('?', adultos['native-country'].mode()[0], inplace=True)\n",
    "\n",
    "interrogacion_workclass = adultos['workclass'].str.count('\\?').sum()\n",
    "interrogacion_occupation = adultos['occupation'].str.count('\\?').sum()\n",
    "interrogacion_native_country = adultos['native-country'].str.count('\\?').sum()\n",
    "\n",
    "print(' Cantidad de Registros \"?\" por Columnas '.center(70, '='))\n",
    "print()\n",
    "print(f'La cantidad de registros \"?\" en la columna \"workclass\" es: {interrogacion_workclass}')\n",
    "print(f'La cantidad de registros \"?\" en la columna \"occupation\" es: {interrogacion_occupation}')\n",
    "print(f'La cantidad de registros \"?\" en la columna \"native-country\" es: {interrogacion_native_country}')\n",
    "print()\n",
    "print('=' * 70)"
   ]
  },
  {
   "cell_type": "code",
   "execution_count": null,
   "metadata": {},
   "outputs": [],
   "source": [
    "import matplotlib.pyplot as plt\n",
    "import seaborn as sns\n",
    "import warnings\n",
    "warnings.filterwarnings(\"ignore\")\n",
    "\n",
    "figure, axes = plt.subplots(2, 3, figsize=(16, 10))\n",
    "\n",
    "sns.histplot(data=adultos['age'], ax=axes[0, 0], bins=25, kde=True)\n",
    "axes[0, 0].set_title('Distribución por Edad')\n",
    "axes[0, 0].set_xlabel('Edad')\n",
    "axes[0, 0].set_ylabel('Frecuencia')\n",
    "\n",
    "sns.histplot(data=adultos['fnlwgt'], ax=axes[0, 1], bins=25, kde=True)\n",
    "axes[0, 1].set_title('Distribución por Fnlwgt')\n",
    "axes[0, 1].set_xlabel('fnlwgt')\n",
    "axes[0, 1].set_ylabel('Frecuencia')\n",
    "\n",
    "sns.histplot(data=adultos['educational-num'], ax=axes[0, 2], bins=15, kde=True)\n",
    "axes[0, 2].set_title('Distribución por Grado Educacional')\n",
    "axes[0, 2].set_xlabel('educational-num')\n",
    "axes[0, 2].set_ylabel('Frecuencia')\n",
    "\n",
    "sns.histplot(data=adultos['capital-gain'], ax=axes[1, 0], bins=50, kde=True)\n",
    "axes[1, 0].set_title('Distribución por Utilidad')\n",
    "axes[1, 0].set_xlabel('Utilidad')\n",
    "axes[1, 0].set_ylabel('Frecuencia')\n",
    "\n",
    "sns.histplot(data=adultos['capital-loss'], ax=axes[1, 1], bins=50, kde=True)\n",
    "axes[1, 1].set_title('Distribución por Pérdida')\n",
    "axes[1, 1].set_xlabel('Perdida de Capital')\n",
    "axes[1, 1].set_ylabel('Frecuencia')\n",
    "\n",
    "sns.histplot(data=adultos['hours-per-week'], ax=axes[1, 2], bins=25, kde=True)\n",
    "axes[1, 2].set_title('Distribución de Horas por Semana')\n",
    "axes[1, 2].set_xlabel('Horas por Semana')\n",
    "axes[1, 2].set_ylabel('Frecuencia')\n",
    "\n",
    "plt.show()"
   ]
  },
  {
   "cell_type": "markdown",
   "metadata": {},
   "source": [
    "En resumen, tenemos 15 variables de las cuales 9 son categóricas y 6 son numéricas."
   ]
  },
  {
   "cell_type": "code",
   "execution_count": null,
   "metadata": {},
   "outputs": [],
   "source": [
    "# find categorical variables\n",
    "\n",
    "variables_categoricas = [var for var in adultos.columns if adultos[var].dtype=='O']\n",
    "variables_numericas = [var for var in adultos.columns if adultos[var].dtype!='O']\n",
    "\n",
    "print('=' * 123)\n",
    "print()\n",
    "print('- Hay {} variables categóricas,'.format(len(variables_categoricas)) + ' que son:\\n\\n', variables_categoricas)\n",
    "print()\n",
    "print('- Son {} variables numéricas,'.format(len(variables_numericas)) + ' que son: \\n\\n', variables_numericas)\n",
    "print()\n",
    "print('=' * 123)"
   ]
  },
  {
   "cell_type": "markdown",
   "metadata": {},
   "source": [
    "**3. Definición de features y target**\n",
    "\n",
    "**4. Dividir datos en training y test**\n",
    "\n",
    "**5. Feature Enginnering**\n",
    "\n",
    "**6. Escalamiento de features**\n"
   ]
  },
  {
   "cell_type": "code",
   "execution_count": null,
   "metadata": {},
   "outputs": [],
   "source": [
    "from sklearn.model_selection import  train_test_split\n",
    "from sklearn.preprocessing import RobustScaler\n",
    "\n",
    "X = adultos.drop('income', axis=1)\n",
    "y = adultos['income']\n",
    "\n",
    "X = pd.get_dummies(X, columns=['workclass', 'education', 'marital-status', 'occupation', 'relationship', 'race', 'gender', 'native-country']).astype(int)\n",
    "\n",
    "X_train, X_test, y_train, y_test = train_test_split(X, y, test_size = 0.3, random_state = 42)\n",
    "\n",
    "columnas = X_train.columns\n",
    "\n",
    "escalamiento = RobustScaler()\n",
    "\n",
    "X_train = escalamiento.fit_transform(X_train)\n",
    "X_test = escalamiento.transform(X_test)\n",
    "\n",
    "X_train = pd.DataFrame(X_train, columns=[columnas])\n",
    "X_test = pd.DataFrame(X_test, columns=[columnas])\n",
    "\n",
    "X_train.head()\n"
   ]
  },
  {
   "cell_type": "markdown",
   "metadata": {},
   "source": [
    "**7. Entrenamiento del modelo**"
   ]
  },
  {
   "cell_type": "code",
   "execution_count": null,
   "metadata": {},
   "outputs": [],
   "source": [
    "from sklearn.naive_bayes import GaussianNB\n",
    "\n",
    "modelo_naive_bayes = GaussianNB()\n",
    "modelo_naive_bayes.fit(X_train, y_train)\n",
    "\n"
   ]
  },
  {
   "cell_type": "markdown",
   "metadata": {},
   "source": [
    "**8. Predicciones**"
   ]
  },
  {
   "cell_type": "code",
   "execution_count": null,
   "metadata": {},
   "outputs": [],
   "source": [
    "\n",
    "y_pred_entrenamiento = modelo_naive_bayes.predict(X_train)\n",
    "y_pred = modelo_naive_bayes.predict(X_test)\n",
    "\n"
   ]
  },
  {
   "cell_type": "markdown",
   "metadata": {},
   "source": [
    "**9. Cálculo de exactitud**"
   ]
  },
  {
   "cell_type": "code",
   "execution_count": null,
   "metadata": {},
   "outputs": [],
   "source": [
    "from sklearn.metrics import accuracy_score\n",
    "\n",
    "accuracy_entrenamiento = accuracy_score(y_train, y_pred_entrenamiento)\n",
    "accuracy_test = accuracy_score(y_test, y_pred)\n",
    "\n",
    "print(' ACCURACY DEL MODELO '.center(50, '=') + '\\n')\n",
    "print('ENTRENAMIENTO '.ljust(40, '.') +  f' {accuracy_entrenamiento:.4f}'.rjust(10, '.'))\n",
    "print('PRUEBA '.ljust(40, '.') +  f' {accuracy_test:.4f}'.rjust(10, '.') + '\\n')\n",
    "print('=' * 50)"
   ]
  },
  {
   "cell_type": "markdown",
   "metadata": {},
   "source": [
    "**10. Matriz de confusión**"
   ]
  },
  {
   "cell_type": "code",
   "execution_count": null,
   "metadata": {},
   "outputs": [],
   "source": [
    "from sklearn.metrics import confusion_matrix\n",
    "\n",
    "matriz_de_confusion = confusion_matrix(y_test, y_pred)\n",
    "\n",
    "print(' MATRIZ DE CONFUSION '.center(25, '='))\n",
    "print(matriz_de_confusion)\n",
    "print('=' * 25)\n",
    "\n",
    "figure = plt.figure(figsize=(6, 4))\n",
    "sns.heatmap(matriz_de_confusion, annot=True, fmt='d', cmap='coolwarm', xticklabels=['Predicción Negativa', 'Predicción Positiva'], yticklabels=['Real Negativo', 'Real Positivo'])\n",
    "\n",
    "plt.title('MATRIZ DE CONFUSIÓN')\n",
    "plt.xlabel('Clases Predichas', fontsize=15)\n",
    "plt.ylabel('Clases Reales', fontsize=15)\n",
    "\n",
    "plt.show()"
   ]
  },
  {
   "cell_type": "markdown",
   "metadata": {},
   "source": [
    "**11. Otras medidas de evaluación**"
   ]
  },
  {
   "cell_type": "code",
   "execution_count": null,
   "metadata": {},
   "outputs": [],
   "source": [
    "from sklearn.metrics import classification_report\n",
    "\n",
    "print(classification_report(y_test, y_pred))"
   ]
  },
  {
   "cell_type": "markdown",
   "metadata": {},
   "source": [
    "**12. Probabilidades de clases**"
   ]
  },
  {
   "cell_type": "code",
   "execution_count": null,
   "metadata": {},
   "outputs": [],
   "source": [
    "y_pred_prob = modelo_naive_bayes.predict_proba(X_test)[0:10]\n",
    "\n",
    "print(y_pred_prob)"
   ]
  },
  {
   "cell_type": "markdown",
   "metadata": {},
   "source": [
    "**13. Curvas ROC – AUC**"
   ]
  },
  {
   "cell_type": "code",
   "execution_count": null,
   "metadata": {},
   "outputs": [],
   "source": [
    "from sklearn.metrics import roc_curve, roc_auc_score\n",
    "\n",
    "y_probs = modelo_naive_bayes.predict_proba(X_test)[:, 1]\n",
    "y_auc = roc_auc_score(y_test, y_probs)\n",
    "\n",
    "fpr, tpr, thresholds = roc_curve(y_test, y_probs, pos_label = '>50K')\n",
    "\n",
    "plt.figure(figsize=(6,6))\n",
    "plt.plot(fpr, tpr, linewidth=2, color='green', label=f'Análisis ROC (AUC = {y_auc:.4f})')\n",
    "plt.plot([0,1], [0,1], 'r--' )\n",
    "#plt.rcParams['font.size'] = 12\n",
    "\n",
    "plt.title('CURVA ROC PARA MODELO PREDICTOR NAIVE BAYES')\n",
    "plt.xlabel('Tasa Falsos Positivos (1 - Specificity)', fontsize=11)\n",
    "plt.ylabel('Tasa Verdaderos Positivos (Sensitivity)', fontsize=11)\n",
    "\n",
    "plt.legend()\n",
    "plt.show()"
   ]
  },
  {
   "cell_type": "markdown",
   "metadata": {},
   "source": [
    "**14. Validación cruzada k-fold**"
   ]
  },
  {
   "cell_type": "code",
   "execution_count": null,
   "metadata": {},
   "outputs": [],
   "source": [
    "from sklearn.model_selection import cross_val_score\n",
    "\n",
    "validacion_cruzada_k_fold = cross_val_score(modelo_naive_bayes, X_train, y_train, cv = 10, scoring='accuracy')\n",
    "validacion_cruzada_k_fold_promedio = validacion_cruzada_k_fold.mean()\n",
    "\n",
    "print('Validación Cruzada k-Fold:{}'.format(validacion_cruzada_k_fold))\n",
    "\n"
   ]
  },
  {
   "cell_type": "code",
   "execution_count": null,
   "metadata": {},
   "outputs": [],
   "source": [
    "print(' COMPARATIVO VALIDACIÓN CRUZADA '.center(60, '=') + '\\n')\n",
    "print('Accuracy Test '.ljust(50, '.') + f' {accuracy_test:.4f}'.rjust(10, '.'))\n",
    "print('Media Accuracy Validación Cruzada k-fold '.ljust(50, '.') + f' {validacion_cruzada_k_fold_promedio:.4f}'.rjust(10, '.') + '\\n')\n",
    "print('=' * 60)"
   ]
  },
  {
   "cell_type": "markdown",
   "metadata": {},
   "source": [
    "Habiendo elegido el indicador *accuracy* para contrastar el resultado de la validación cruzada y habiendo elegido un *k* de 10, podemos observar que el modelo no mejora sus resultados sino que los baja levemente lo que implica que el modelo está bastante afinado en cuanto a su funcionamiento."
   ]
  },
  {
   "cell_type": "code",
   "execution_count": null,
   "metadata": {},
   "outputs": [],
   "source": []
  }
 ],
 "metadata": {
  "kernelspec": {
   "display_name": "base",
   "language": "python",
   "name": "python3"
  },
  "language_info": {
   "codemirror_mode": {
    "name": "ipython",
    "version": 3
   },
   "file_extension": ".py",
   "mimetype": "text/x-python",
   "name": "python",
   "nbconvert_exporter": "python",
   "pygments_lexer": "ipython3",
   "version": "3.11.7"
  }
 },
 "nbformat": 4,
 "nbformat_minor": 2
}
