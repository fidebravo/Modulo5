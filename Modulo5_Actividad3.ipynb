{
 "cells": [
  {
   "cell_type": "markdown",
   "metadata": {},
   "source": [
    "# Módulo 5 Actividad 3\n",
    "\n",
    "## Intención del aprendizaje esperado:\n",
    "\n",
    "3. Elaborar un modelo predictivo de regresión lineal múltiple aplicando técnicas de selección de modelo y utilizando el lenguaje Python para resolver un problema.\n",
    "\n",
    "## Ejercicios Planteados\n",
    "\n",
    "\n",
    "***Ejercicio:*** *Supóngase que el departamento de ventas de una empresa quiere estudiar la influencia que tiene la publicidad a través de distintos canales sobre el número de ventas de un producto. Se dispone de un conjunto de datos que contiene los ingresos (en millones) conseguido por ventas en 200 regiones, así como la cantidad de presupuesto, también en millones, destinado a anuncios por radio, TV y periódicos en cada una de ellas.*"
   ]
  },
  {
   "cell_type": "code",
   "execution_count": null,
   "metadata": {},
   "outputs": [],
   "source": [
    "import pandas as pd\n",
    "\n",
    "# Datos\n",
    "# ==============================================================================\n",
    "tv = [230.1, 44.5, 17.2, 151.5, 180.8, 8.7, 57.5, 120.2, 8.6, 199.8, 66.1, 214.7, 23.8, 97.5, 204.1, 195.4, 67.8, 281.4, 69.2, 147.3, 218.4, 237.4, 13.2, 228.3, 62.3, 262.9, 142.9, 240.1, 248.8, 70.6, 292.9, 112.9, 97.2, 265.6,\n",
    " 95.7, 290.7, 266.9, 74.7, 43.1, 228.0, 202.5, 177.0, 293.6, 206.9, 25.1, 175.1, 89.7, 239.9, 227.2, 66.9, 199.8, 100.4, 216.4, 182.6, 262.7, 198.9, 7.3, 136.2, 210.8, 210.7, 53.5, 261.3, 239.3, 102.7, 131.1, 69.0, 31.5,\n",
    " 139.3, 237.4, 216.8, 199.1, 109.8, 26.8, 129.4, 213.4, 16.9, 27.5, 120.5, 5.4, 116.0, 76.4, 239.8, 75.3, 68.4, 213.5, 193.2, 76.3, 110.7, 88.3, 109.8, 134.3, 28.6, 217.7, 250.9, 107.4, 163.3, 197.6, 184.9, 289.7, 135.2, 222.4,\n",
    " 296.4, 280.2, 187.9, 238.2, 137.9, 25.0, 90.4, 13.1, 255.4, 225.8, 241.7, 175.7, 209.6, 78.2, 75.1, 139.2, 76.4, 125.7, 19.4, 141.3, 18.8, 224.0, 123.1, 229.5, 87.2, 7.8, 80.2, 220.3, 59.6, 0.7, 265.2, 8.4, 219.8, 36.9, 48.3, 25.6, 273.7,\n",
    " 43.0, 184.9, 73.4, 193.7, 220.5, 104.6, 96.2, 140.3, 240.1, 243.2, 38.0, 44.7, 280.7, 121.0, 197.6, 171.3, 187.8, 4.1, 93.9, 149.8, 11.7, 131.7, 172.5, 85.7, 188.4, 163.5, 117.2, 234.5, 17.9, 206.8, 215.4, 284.3, 50.0, 164.5, 19.6, 168.4,\n",
    " 222.4, 276.9, 248.4, 170.2, 276.7, 165.6, 156.6, 218.5, 56.2, 287.6, 253.8, 205.0, 139.5, 191.1, 286.0, 18.7, 39.5, 75.5, 17.2, 166.8, 149.7, 38.2, 94.2, 177.0, 283.6, 232.1]\n",
    "\n",
    "radio = [37.8, 39.3, 45.9, 41.3, 10.8, 48.9, 32.8, 19.6, 2.1, 2.6, 5.8, 24.0, 35.1, 7.6, 32.9, 47.7, 36.6, 39.6, 20.5, 23.9, 27.7, 5.1, 15.9, 16.9, 12.6, 3.5, 29.3, 16.7, 27.1, 16.0, 28.3, 17.4, 1.5, 20.0, 1.4, 4.1, 43.8, 49.4, 26.7,\n",
    " 37.7, 22.3, 33.4, 27.7, 8.4, 25.7, 22.5, 9.9, 41.5, 15.8, 11.7, 3.1, 9.6, 41.7, 46.2, 28.8, 49.4, 28.1, 19.2, 49.6, 29.5, 2.0, 42.7, 15.5, 29.6, 42.8, 9.3, 24.6, 14.5, 27.5, 43.9, 30.6, 14.3, 33.0, 5.7, 24.6, 43.7, 1.6, 28.5,\n",
    " 29.9, 7.7, 26.7, 4.1, 20.3, 44.5, 43.0, 18.4, 27.5, 40.6, 25.5, 47.8, 4.9, 1.5, 33.5, 36.5, 14.0, 31.6, 3.5, 21.0, 42.3, 41.7, 4.3, 36.3, 10.1, 17.2, 34.3, 46.4, 11.0, 0.3, 0.4, 26.9, 8.2, 38.0, 15.4, 20.6, 46.8, 35.0, 14.3,\n",
    " 0.8, 36.9, 16.0, 26.8, 21.7, 2.4, 34.6, 32.3, 11.8, 38.9, 0.0, 49.0, 12.0, 39.6, 2.9, 27.2, 33.5, 38.6, 47.0, 39.0, 28.9, 25.9, 43.9, 17.0, 35.4, 33.2, 5.7, 14.8, 1.9, 7.3, 49.0, 40.3, 25.8, 13.9, 8.4, 23.3, 39.7, 21.1, 11.6, 43.5,\n",
    " 1.3, 36.9, 18.4, 18.1, 35.8, 18.1, 36.8, 14.7, 3.4, 37.6, 5.2, 23.6, 10.6, 11.6, 20.9, 20.1, 7.1, 3.4, 48.9, 30.2, 7.8, 2.3, 10.0, 2.6, 5.4, 5.7, 43.0, 21.3, 45.1, 2.1, 28.7, 13.9, 12.1, 41.1, 10.8, 4.1, 42.0, 35.6, 3.7, 4.9, 9.3, 42.0, 8.6]\n",
    "\n",
    "periodico = [69.2, 45.1, 69.3, 58.5, 58.4, 75.0, 23.5, 11.6, 1.0, 21.2, 24.2, 4.0, 65.9, 7.2, 46.0, 52.9, 114.0, 55.8, 18.3, 19.1, 53.4, 23.5, 49.6, 26.2, 18.3, 19.5, 12.6, 22.9, 22.9, 40.8, 43.2, 38.6, 30.0, 0.3, 7.4, 8.5, 5.0,\n",
    " 45.7, 35.1, 32.0, 31.6, 38.7, 1.8, 26.4, 43.3, 31.5, 35.7, 18.5, 49.9, 36.8, 34.6, 3.6, 39.6, 58.7, 15.9, 60.0, 41.4, 16.6, 37.7, 9.3, 21.4, 54.7, 27.3, 8.4, 28.9, 0.9, 2.2, 10.2, 11.0, 27.2, 38.7, 31.7, 19.3, 31.3, 13.1,\n",
    " 89.4, 20.7, 14.2, 9.4, 23.1, 22.3, 36.9, 32.5, 35.6, 33.8, 65.7, 16.0, 63.2, 73.4, 51.4, 9.3, 33.0, 59.0, 72.3, 10.9, 52.9, 5.9, 22.0, 51.2, 45.9, 49.8, 100.9, 21.4, 17.9, 5.3, 59.0, 29.7, 23.2, 25.6, 5.5, 56.5, 23.2, 2.4, 10.7,\n",
    " 34.5, 52.7, 25.6, 14.8, 79.2, 22.3, 46.2, 50.4, 15.6, 12.4, 74.2, 25.9, 50.6, 9.2, 3.2, 43.1, 8.7, 43.0, 2.1, 45.1, 65.6, 8.5, 9.3, 59.7, 20.5, 1.7, 12.9, 75.6, 37.9, 34.4, 38.9, 9.0, 8.7, 44.3, 11.9, 20.6, 37.0, 48.7, 14.2, 37.7,\n",
    " 9.5, 5.7, 50.5, 24.3, 45.2, 34.6, 30.7, 49.3, 25.6, 7.4, 5.4, 84.8, 21.6, 19.4, 57.6, 6.4, 18.4, 47.4, 17.0, 12.8, 13.1, 41.8, 20.3, 35.2, 23.7, 17.6, 8.3, 27.4, 29.7, 71.8, 30.0, 19.6, 26.6, 18.2, 3.7, 23.4, 5.8, 6.0, 31.6, 3.6, 6.0,\n",
    " 13.8, 8.1, 6.4, 66.2, 8.7]\n",
    "\n",
    "ventas = [22.1, 10.4, 9.3, 18.5, 12.9, 7.2, 11.8, 13.2, 4.8, 10.6, 8.6, 17.4, 9.2, 9.7, 19.0, 22.4, 12.5, 24.4, 11.3, 14.6, 18.0, 12.5, 5.6, 15.5, 9.7, 12.0, 15.0, 15.9, 18.9, 10.5, 21.4, 11.9, 9.6, 17.4, 9.5, 12.8, 25.4, 14.7, 10.1, 21.5, 16.6, 17.1,\n",
    " 20.7, 12.9, 8.5, 14.9, 10.6, 23.2, 14.8, 9.7, 11.4, 10.7, 22.6, 21.2, 20.2, 23.7, 5.5, 13.2, 23.8, 18.4, 8.1, 24.2, 15.7, 14.0, 18.0, 9.3, 9.5, 13.4, 18.9, 22.3, 18.3, 12.4, 8.8, 11.0, 17.0, 8.7, 6.9, 14.2, 5.3, 11.0, 11.8, 12.3, 11.3, 13.6,\n",
    " 21.7, 15.2, 12.0, 16.0, 12.9, 16.7, 11.2, 7.3, 19.4, 22.2, 11.5, 16.9, 11.7, 15.5, 25.4, 17.2, 11.7, 23.8, 14.8, 14.7, 20.7, 19.2, 7.2, 8.7, 5.3, 19.8, 13.4, 21.8, 14.1, 15.9, 14.6, 12.6, 12.2, 9.4, 15.9, 6.6, 15.5, 7.0, 11.6, 15.2, 19.7, 10.6,\n",
    " 6.6, 8.8, 24.7, 9.7, 1.6, 12.7, 5.7, 19.6, 10.8, 11.6, 9.5, 20.8, 9.6, 20.7, 10.9, 19.2, 20.1, 10.4, 11.4, 10.3, 13.2, 25.4, 10.9, 10.1, 16.1, 11.6, 16.6, 19.0, 15.6, 3.2, 15.3, 10.1, 7.3, 12.9, 14.4, 13.3, 14.9, 18.0, 11.9, 11.9, 8.0, 12.2, 17.1,\n",
    " 15.0, 8.4, 14.5, 7.6, 11.7, 11.5, 27.0, 20.2, 11.7, 11.8, 12.6, 10.5, 12.2, 8.7, 26.2, 17.6, 22.6, 10.3, 17.3, 15.9, 6.7, 10.8, 9.9, 5.9, 19.6, 17.3, 7.6, 9.7, 12.8, 25.5, 13.4]\n",
    "\n",
    "datos = pd.DataFrame({'tv': tv, 'radio': radio, 'periodico':periodico, 'ventas': ventas})\n",
    "datos.head()"
   ]
  },
  {
   "cell_type": "markdown",
   "metadata": {},
   "source": [
    "### Para esto obtenga lo siguiente:\n",
    "\n",
    "1. Obtenga la distribución de cada una de las variables"
   ]
  },
  {
   "cell_type": "code",
   "execution_count": null,
   "metadata": {},
   "outputs": [],
   "source": [
    "import matplotlib.pyplot as plt\n",
    "import seaborn as sns\n",
    "import warnings\n",
    "warnings.filterwarnings(\"ignore\")\n",
    "\n",
    "\n",
    "fig, axes = plt.subplots(1, 4, figsize=(20, 4))\n",
    "\n",
    "sns.histplot(ax=axes[0], data=datos, x='tv', bins=20, color='pink', kde=True)\n",
    "axes[0].set_title('TV', fontsize=12)\n",
    "axes[0].set_xlabel('Egreso Publicidad en US$ MM', fontsize=8)\n",
    "axes[0].set_ylabel('Frecuencia', fontsize=8)\n",
    "axes[0].set_ylim(0, 28)\n",
    "\n",
    "sns.histplot(ax=axes[1], data=datos, x='radio', bins=20, color='gray', kde=True)\n",
    "axes[1].set_title('Radio', fontsize=12)\n",
    "axes[1].set_xlabel('Egreso Publicidad en US$ MM', fontsize=8)\n",
    "axes[1].set_ylabel('Frecuencia', fontsize=8)\n",
    "axes[1].set_ylim(0, 28)\n",
    "\n",
    "sns.histplot(ax=axes[2], data=datos, x='periodico', bins=20, color='skyblue', kde=True)\n",
    "axes[2].set_title('Periodico', fontsize=12)\n",
    "axes[2].set_xlabel('Egreso Publicidad en US$ MM', fontsize=8)\n",
    "axes[2].set_ylabel('Frecuencia', fontsize=8)\n",
    "axes[2].set_ylim(0, 28)\n",
    "\n",
    "sns.histplot(ax=axes[3], data=datos, x='ventas', bins=20, color='sienna', kde=True)\n",
    "axes[3].set_title('Distribución de Ingresos por Venta', fontsize=12)\n",
    "axes[3].set_xlabel('Ingresos por Ventas en US$ MM', fontsize=8)\n",
    "axes[3].set_ylabel('Frecuencia', fontsize=8)\n",
    "axes[3].set_ylim(0, 28)\n",
    "\n",
    "plt.show()"
   ]
  },
  {
   "cell_type": "markdown",
   "metadata": {},
   "source": [
    "2. Obtenga la matriz de correlación"
   ]
  },
  {
   "cell_type": "code",
   "execution_count": null,
   "metadata": {},
   "outputs": [],
   "source": [
    "\n",
    "matriz_correlacion = datos.corr()\n",
    "print(matriz_correlacion)\n",
    "\n",
    "fig, ax = plt.subplots(figsize=(8, 6))\n",
    "cax = ax.matshow(matriz_correlacion, cmap='coolwarm', vmin=-1, vmax=1)\n",
    "\n",
    "for i in range(matriz_correlacion.shape[0]):\n",
    "    for j in range(matriz_correlacion.shape[1]):\n",
    "        plt.text(j, i, f\"{matriz_correlacion.iloc[i, j]:.4f}\", ha=\"center\", va=\"center\", color=\"black\")\n",
    "\n",
    "plt.xticks(range(len(matriz_correlacion.columns)), matriz_correlacion.columns, rotation=45)\n",
    "plt.yticks(range(len(matriz_correlacion.columns)), matriz_correlacion.columns)\n",
    "plt.title('Matriz de Correlación')\n",
    "plt.colorbar(cax)\n",
    "plt.show()\n"
   ]
  },
  {
   "cell_type": "markdown",
   "metadata": {},
   "source": [
    "3. Separe sus datos en 70/30       *(Siguiendo en la línea de lo que hemos venido trabajando se utiliza el random state 42)*\n",
    "4. Obtenga su modelo de Regresión lineal"
   ]
  },
  {
   "cell_type": "code",
   "execution_count": null,
   "metadata": {},
   "outputs": [],
   "source": [
    "from sklearn.model_selection import  train_test_split\n",
    "from sklearn.linear_model import LinearRegression\n",
    "import numpy as np\n",
    "\n",
    "X = datos[['tv', 'radio', 'periodico']]\n",
    "y = datos['ventas']\n",
    "\n",
    "X_train, X_test, y_train, y_test =  train_test_split(X, y, test_size=0.3, random_state=42)\n",
    "\n",
    "modelo_regresion_lineal = LinearRegression()\n",
    "modelo_regresion_lineal.fit(X_train, y_train)"
   ]
  },
  {
   "cell_type": "markdown",
   "metadata": {},
   "source": [
    "5. Entregue la recta matemática de regresión con las estimaciones obtenidas"
   ]
  },
  {
   "cell_type": "code",
   "execution_count": null,
   "metadata": {},
   "outputs": [],
   "source": [
    "\n",
    "coeficientes_modelo = modelo_regresion_lineal.coef_\n",
    "intercepto_modelo =  modelo_regresion_lineal.intercept_\n",
    "\n",
    "print(' RECTA DE REGRESIÓN LINEAL '.center(70, '='))\n",
    "print()\n",
    "print(f'y = ({coeficientes_modelo[0]:.4f} * tv) + ({coeficientes_modelo[1]:.4f} * radio) + ({coeficientes_modelo[2]:.4f} * periódico) + {intercepto_modelo:.4f}'.center(70))\n",
    "print()\n",
    "print('=' * 70)"
   ]
  },
  {
   "cell_type": "markdown",
   "metadata": {},
   "source": [
    "6. Realice un diagnóstico de los residuos del modelo."
   ]
  },
  {
   "cell_type": "code",
   "execution_count": null,
   "metadata": {},
   "outputs": [],
   "source": [
    "\n",
    "y_pred = modelo_regresion_lineal.predict(X_test)\n",
    "residuos = y_test - y_pred\n",
    "\n",
    "df_residuos = pd.DataFrame(residuos)\n",
    "df_residuos.describe()"
   ]
  },
  {
   "cell_type": "markdown",
   "metadata": {},
   "source": [
    "7. Realice el test de normalidad"
   ]
  },
  {
   "cell_type": "code",
   "execution_count": null,
   "metadata": {},
   "outputs": [],
   "source": [
    "import scipy.stats as stats\n",
    "\n",
    "shapiro_test = stats.shapiro(residuos)\n",
    "\n",
    "print(' TEST SHAPIRO-WILK '.center(90, '='))\n",
    "print()\n",
    "print(f'El valor para el estadístico de prueba es: {shapiro_test[0]:.4f}, mientras que su valor p es : {shapiro_test[1]:.4f}'.center(90))\n",
    "print()\n",
    "\n",
    "stats.probplot(residuos, dist=\"norm\", plot=plt)\n",
    "plt.title('Gráfico Q-Q de los Residuos')\n",
    "plt.show()"
   ]
  },
  {
   "cell_type": "markdown",
   "metadata": {},
   "source": [
    "8. Obtenga las predicciones del modelo"
   ]
  },
  {
   "cell_type": "code",
   "execution_count": null,
   "metadata": {},
   "outputs": [],
   "source": [
    "predicciones_entrenamiento = modelo_regresion_lineal.predict(X_train)\n",
    "\n",
    "print(' PREDICCIONES DEL MODELO '.center(163, '='))\n",
    "print()\n",
    "print(f'Algunos valores de predicción de los datos de entrenamiento: {list(predicciones_entrenamiento[:5])}'.center(163))\n",
    "print()\n",
    "print(f'Algunos valores de predicción de los datos de prueba: {list(y_pred[:5])}'.center(163))\n",
    "print()\n",
    "print('=' * 163)"
   ]
  },
  {
   "cell_type": "markdown",
   "metadata": {},
   "source": [
    "9. Entregue el error del test"
   ]
  },
  {
   "cell_type": "code",
   "execution_count": null,
   "metadata": {},
   "outputs": [],
   "source": [
    "from sklearn.metrics import mean_squared_error, mean_absolute_error, r2_score\n",
    "\n",
    "mae_train = mean_absolute_error(y_train, predicciones_entrenamiento)\n",
    "mae_test = mean_absolute_error(y_test, y_pred)\n",
    "\n",
    "mse_train =  mean_squared_error(y_train, predicciones_entrenamiento)\n",
    "mse_test = mean_squared_error(y_test, y_pred)\n",
    "\n",
    "rmse_train = np.sqrt(mse_train)\n",
    "rmse_test = np.sqrt(mse_test)\n",
    "\n",
    "r2_train = r2_score(y_train, predicciones_entrenamiento)\n",
    "r2_test = r2_score(y_test, y_pred)\n",
    "\n",
    "print(' INDICADORES DE ERROR '.center(60, '='))\n",
    "print()\n",
    "print('ENTRENAMIENTO '.ljust(30, '_') + ' PRUEBA'.rjust(30, '_'))\n",
    "print()\n",
    "print(f'MAE:        {mae_train:.4f}'.ljust(30, '.') + f'{mae_test:.4f}'.rjust(30, '.'))\n",
    "print(f'MSE:        {mse_train:.4f}'.ljust(30, '.') + f'{mse_test:.4f}'.rjust(30, '.'))\n",
    "print(f'RMSE:       {rmse_train:.4f}'.ljust(30, '.') + f'{rmse_test:.4f}'.rjust(30, '.'))\n",
    "print(f'R Cuadrado: {r2_train:.4f}'.ljust(30, '.') + f'{r2_test:.4f}'.rjust(30, '.'))\n",
    "print()\n",
    "print('=' * 60)\n",
    "\n",
    "df_residuos.describe()\n"
   ]
  },
  {
   "cell_type": "markdown",
   "metadata": {},
   "source": [
    "10. Interprete sus resultados y responda al problema planteado."
   ]
  },
  {
   "cell_type": "markdown",
   "metadata": {},
   "source": [
    "## Interpretación de los Resultados\n",
    "\n",
    "Desde el punto de vista de la fiabilidad del modelo según los resultados, comenzaré por comentar en primer lugar el diagnóstico de los residuos, solicitados en el punto 6, donde observamos que la media de las predicciones es cercana a 0 (-0.038489), sin embargo su desviación estándar es casi 2 (1.964597), esto se ve reflejado en en el rango que existe entre el valor mínimo (-6.153607) y el valor máximo (3.063632) como también en la distribución de los cuartiles lo que implica que las predicciones no están muy finas ya que esperamos que la brecha sea más acotada.\n",
    "\n",
    "\n",
    "En segundo lugar, realizamos un test de normalidad, que busca determinar si la distribución de los residuos sigue un comportamiento Normal, que es lo esperado estadísticamente.  Aplicamos el test de Shapiro-Wilk que nos entrega 2 resultados, el primero que se refiere al Estadístico de prueba y que sus valores probables oscilan entre 0 y 1, siendo óptimo que el valor sea lo más cercano a 1 decreciendo en efectividad a medida que nos acercamos a 0.  El segundo resultado se refiere al p-value, el cual se considera óptimo si es mayor al valor del nivel de significancia que hayamos establecido, que por lo general se establece en 0.05.  Respecto a los resultados obtenidos, hay una incongruencia entre las interpretaciones ya que hemos obtenido un valor de Estadístico de Prueba del 0.9257, lo que nos permitiría interpretar que el modelo responde bien, en contraste el p-value es muy pequeño, de hecho menor al nivel de significancia de uso general lo que debiese interpretarse como evidencia suficiente para rechazar la H0 que establece que la distribución de los residuos sigue una distribución normal.  En adición hemos generado el grafico de prueba Cuantil-Cuantil que nos permite visualizar el comportamiento de los residuos, pudiendo observar que no existe una distribución lineal perfecta y que hacia los extremos la coincidencia con la linea ideal es más dispersa que hacia la mitad de la recta.\n",
    "\n",
    "\n",
    "En tercer lugar, tenemos los indicadores de error para los cuales calculé los valores para el proceso de entrenamiento y prueba con el fin de poder comparar y observar si existe un comportamiento esperado, en el sentido que los resultados de entrenamiento sean mejores que los resultados de prueba y en todos ellos se mantiene esa lógica.  Desde mi punto de vista, los resultados son buenos ya que representan valores que proporcionalmente son bajos respecto al total de la muestra.  En ese sentido, el MAE que arroja resultados de la misma magnitud que los datos originales no es muy alto y tiene poca diferencia con RMSE, que también arroja valores en la misma magnitud que los datos originales (aunque pasa por un proceso distinto ya que deriva del MSE).  Debido que el MSE como el RMSE incluyen un proceso que eleva al cuadrado las diferencias, suelen penalizar los valores más altos u outliers dentro del conjunto de datos, lo que es congruente con la información obtenida respecto a la desviación estándar de los residuos.  Por último, el R Cuadrado nos indica un valor de 0.8609 lo que se puede interpretar como un alto porcentaje de efectividad en las predicciones ya que este indicador también oscila en valores entre 0 y 1 (mayormente ya que también puede adoptar valores menores a 0).\n",
    "\n",
    "\n",
    "Mi conclusión en consideración con lo anteriormente expuesto es que el modelo padece de un sobreajuste, probablemente porque el proceso de entrenamiento no ha sido óptimo lo que podría ser resuelto usando validación cruzada, intuyendo que al usar esta técnica, el modelo podrá interpretar de mejor manera o en mayor extensión las variables y evitar diferencias muy altas con valores que no se hayan considerado en el proceso de entrenamiento.\n",
    "\n",
    "\n",
    "Como segunda parte y respecto al cuestionamiento del ejercicio y bajo los resultados de nuestra recta de Regresión Lineal Multiple, el resultado de los coeficientes nos evidencia que la variable que tiene mayor peso en el resultado de *y* es la radio, motivo por el cual, si consideramos este modelo como válido, el departamento de ventas de la empresa debiera considerar invertir en publicidad radial ya que ésta demuestra ser la de mejor rédito comercial."
   ]
  },
  {
   "cell_type": "markdown",
   "metadata": {},
   "source": []
  }
 ],
 "metadata": {
  "kernelspec": {
   "display_name": "base",
   "language": "python",
   "name": "python3"
  },
  "language_info": {
   "codemirror_mode": {
    "name": "ipython",
    "version": 3
   },
   "file_extension": ".py",
   "mimetype": "text/x-python",
   "name": "python",
   "nbconvert_exporter": "python",
   "pygments_lexer": "ipython3",
   "version": "3.11.7"
  }
 },
 "nbformat": 4,
 "nbformat_minor": 2
}
